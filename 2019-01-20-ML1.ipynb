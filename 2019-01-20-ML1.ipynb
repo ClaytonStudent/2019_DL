{
 "cells": [
  {
   "cell_type": "markdown",
   "metadata": {},
   "source": [
    "# 1. inductive learning"
   ]
  },
  {
   "cell_type": "markdown",
   "metadata": {},
   "source": [
    "# 1.0 Transductive learning\n",
    "\n",
    "Source(CN): http://blog.sciencenet.cn/blog-790781-704686.html\n",
    "\n",
    "利用未标记示例的主流学习技术主要有三大类:  \n",
    "1. 半监督学习（semi-supervised learning):学习器试图自行利用未标记示例，即整个学习过程不需人工干预，仅基于学习器自身对未标记示例进行利用  \n",
    "2. 直推学习（transductive learning):直推学习假定未标记示例就是测试例，即学习的目的就是在这些未标记示例上取得最佳泛化能力  \n",
    "3. 主动学习（active learning）"
   ]
  },
  {
   "cell_type": "markdown",
   "metadata": {},
   "source": [
    "## 1.2  Induktion vs. Deduktion\n",
    "![ID](Figure/ML_Induktion_Deduktion.png)\n",
    "![ID2](Figure/ML_Induktion_Deduktion_2.png)\n",
    "### 1.2.1 Induktion \n",
    "Induktion: Prozess des plausiblen Schließens vom Speziellen zum Allgemeinen\n",
    "### 1.2.2 Induktion Lernhypothese\n",
    "Jede Hypothese, die die Zielfunktion über einer genügend großen Menge von Trainingsbeispielen gut genug approximiert, wird die Zielfunktion auch über unbekannten Beispielen gut approximieren.\n",
    "\n",
    "### 1.2.3 Konsistenz\n",
    "Keine negativen Beispiele werden positiv klassifiziert.  \n",
    "### 1.2.4 Vollständigkeit\n",
    "Alle positiven Beispiele werden als positiv klassifiziert.\n"
   ]
  },
  {
   "cell_type": "markdown",
   "metadata": {},
   "source": [
    "## 1.3 Hypothesenraum"
   ]
  },
  {
   "cell_type": "markdown",
   "metadata": {},
   "source": [
    "1. Suche vom Allgemeinen zum Speziellen: Negative Beispiele: Spezialisierung\n",
    "2. Suche vom Speziellen zum Allgemeinen:Positive Beispiele: (minimale) Verallgemeinerung  \n",
    "3. Versionsraum(Version Space) \n",
    "\n",
    "### 1.3.1 Versionsraum (Version Space)\n",
    "Source(EN): http://www2.cs.uregina.ca/~dbd/cs831/notes/ml/vspace/3_vspace.html  \n",
    "Source(CN): https://www.jianshu.com/p/5ba037200102   \n",
    "Source(CN): https://www.jianshu.com/p/5cd71856cb6e\n",
    "\n",
    "步骤：  \n",
    "如果给定的训练集是正例，那么泛化当前的特化模型使得其包含该正例，同时剔除不能包含该正例的泛化模型；  \n",
    "如果给定的训练集是负例，那么特化当前所有的的泛化模型来包含这个负例，同时剔除无法包含这个负例的特化模型；  \n",
    "删除任何可以被其他模型描述的模型  \n",
    "直到特化模型与泛化模型相同时，我们想要寻找的版本空间就诞生了"
   ]
  },
  {
   "cell_type": "markdown",
   "metadata": {},
   "source": [
    "## 1.4 Inductive bias\n",
    "Source(CN): https://zh.wikipedia.org/wiki/%E6%AD%B8%E7%B4%8D%E5%81%8F%E7%BD%AE  \n",
    "Source(EN): https://stackoverflow.com/questions/35655267/what-is-inductive-bias-on-machine-learning\n",
    "\n",
    "Given a data set, which learning model (=Inductive Bias) should be chosen? Inductive Bias has some prior assumptions about the tasks.  \n",
    "(Example: Maximum conditional independence)"
   ]
  },
  {
   "cell_type": "code",
   "execution_count": null,
   "metadata": {},
   "outputs": [],
   "source": []
  },
  {
   "cell_type": "markdown",
   "metadata": {},
   "source": [
    "# 2. Unüberwachtes Lernen"
   ]
  },
  {
   "cell_type": "markdown",
   "metadata": {},
   "source": [
    "## 2.1 Motivation & Einführung"
   ]
  },
  {
   "cell_type": "markdown",
   "metadata": {},
   "source": [
    "### Why unüberwachtes lernen?\n",
    "1. Sammeln und Klassifizieren von Trainingsdaten kann sehr aufwändig sein\n",
    "2. Engineering z.B: Merkmalsberechnung der Daten kann sehr aufwendig sein\n",
    "3. Data Mining\n",
    "4. Sich verändernde Charakteristika von Mustern\n",
    "5. Finden von neuen Eigenschaften\n",
    "6. Erste Erkenntnisse über Struktur von Daten"
   ]
  },
  {
   "cell_type": "markdown",
   "metadata": {},
   "source": [
    "### Lernverfahren\n",
    "#### Klassische\n",
    "k-means-Clustering\n",
    "Agglomerative Hierarchical Clustering\n",
    "#### Conceptual Clustering\n",
    "CLUSTER/2\n",
    "#### Concept Formation \n",
    "COBWEB / CLASSIT\n",
    "#### Lernen durch Entdeckung\n",
    "BACON / ABACUS"
   ]
  },
  {
   "cell_type": "markdown",
   "metadata": {},
   "source": [
    "## K-means-Clustering"
   ]
  },
  {
   "cell_type": "code",
   "execution_count": null,
   "metadata": {},
   "outputs": [],
   "source": []
  },
  {
   "cell_type": "code",
   "execution_count": null,
   "metadata": {},
   "outputs": [],
   "source": []
  },
  {
   "cell_type": "code",
   "execution_count": null,
   "metadata": {},
   "outputs": [],
   "source": []
  },
  {
   "cell_type": "code",
   "execution_count": null,
   "metadata": {},
   "outputs": [],
   "source": []
  }
 ],
 "metadata": {
  "kernelspec": {
   "display_name": "Python 3",
   "language": "python",
   "name": "python3"
  },
  "language_info": {
   "codemirror_mode": {
    "name": "ipython",
    "version": 3
   },
   "file_extension": ".py",
   "mimetype": "text/x-python",
   "name": "python",
   "nbconvert_exporter": "python",
   "pygments_lexer": "ipython3",
   "version": "3.6.7"
  }
 },
 "nbformat": 4,
 "nbformat_minor": 2
}
