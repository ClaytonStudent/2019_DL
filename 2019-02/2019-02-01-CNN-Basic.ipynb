{
 "cells": [
  {
   "cell_type": "markdown",
   "metadata": {},
   "source": [
    "#### CNN Neuron 个数 \n",
    "输出维度是多少，神经元就有多少.  \n",
    "Neuron个数 = feature map大小 * feature map数量  \n",
    "参数数量 = (卷积覆盖的输入层神经元数 + 1)* 输出feature map数量  \n",
    "Source(CN): https://blog.csdn.net/xys430381_1/article/details/82529397  \n",
    "Source(CN): https://blog.csdn.net/anthea_luo/article/details/80631620  "
   ]
  },
  {
   "cell_type": "markdown",
   "metadata": {},
   "source": [
    "CNN权值共享就是同一个Feature Map中神经元权值共享，该Feature Map中的所有神经元使用同一个权值"
   ]
  }
 ],
 "metadata": {
  "kernelspec": {
   "display_name": "Python 3",
   "language": "python",
   "name": "python3"
  },
  "language_info": {
   "codemirror_mode": {
    "name": "ipython",
    "version": 3
   },
   "file_extension": ".py",
   "mimetype": "text/x-python",
   "name": "python",
   "nbconvert_exporter": "python",
   "pygments_lexer": "ipython3",
   "version": "3.6.7"
  }
 },
 "nbformat": 4,
 "nbformat_minor": 2
}
