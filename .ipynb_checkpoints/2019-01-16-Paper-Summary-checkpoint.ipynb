{
 "cells": [
  {
   "cell_type": "markdown",
   "metadata": {},
   "source": [
    "Paper to choose:\n",
    "1. Attention is all you need\n",
    "2. WaveNet\n",
    "3. An Empirical Evaluation of Generic Convolutional and Recurrent Networks for Sequence Modeling"
   ]
  },
  {
   "cell_type": "markdown",
   "metadata": {},
   "source": [
    "## Prepare"
   ]
  },
  {
   "cell_type": "markdown",
   "metadata": {},
   "source": [
    "### Q:\n",
    "What is the thesis about?  \n",
    "What is the purpose of the thesis?  \n",
    "What were the methods used to research the information?  \n",
    "What are the results, conclusions, and recommendations that the thesis presents?"
   ]
  },
  {
   "cell_type": "code",
   "execution_count": null,
   "metadata": {},
   "outputs": [],
   "source": []
  },
  {
   "cell_type": "markdown",
   "metadata": {},
   "source": [
    "## Abstract"
   ]
  },
  {
   "cell_type": "markdown",
   "metadata": {},
   "source": [
    "Question:   \n",
    "1. Given a new sequence modeling task or dataset, which architecture should one use?   \n",
    "2. Whether these successes of con- volutional sequence modeling are confined to specific ap- plication domains or whether a broader reconsideration of the association between sequence processing and recurrent networks is in order.\n",
    " \n",
    " "
   ]
  },
  {
   "cell_type": "markdown",
   "metadata": {},
   "source": [
    "Method: We conduct a systematic evaluation of generic convo- lutional and recurrent architectures for sequence modeling. Including polyphonic music modeling, word-and character-level language modeling,synthetic stress tests"
   ]
  },
  {
   "cell_type": "markdown",
   "metadata": {},
   "source": [
    "Result:   \n",
    "a simple convolutional archi- tecture outperforms canonical recurrent networks while demonstrating longer effective memory.   \n",
    "TCNs convincingly outperform baseline recurrent architectures across a broad range of se- quence modeling tasks. "
   ]
  },
  {
   "cell_type": "markdown",
   "metadata": {},
   "source": [
    "\n",
    "Conclusion: the common associ- ation between sequence modeling and recurrent networks should be reconsidered, and convolu- tional networks should be regarded as a natural starting point for sequence modeling tasks."
   ]
  },
  {
   "cell_type": "markdown",
   "metadata": {},
   "source": [
    "### TCN"
   ]
  },
  {
   "cell_type": "markdown",
   "metadata": {},
   "source": [
    "distinguishing characteristics :\n",
    "1. the convolutions in the architecture are causal, meaning that there is no information “leakage” from future to past\n",
    "2. the architecture can take a sequence of any length and map it to an output sequence of the same length, just as with an RNN\n",
    "3. build very long effective history sizes using residual layers and dilated convolutions"
   ]
  },
  {
   "cell_type": "code",
   "execution_count": null,
   "metadata": {},
   "outputs": [],
   "source": []
  },
  {
   "cell_type": "markdown",
   "metadata": {},
   "source": [
    "In the sequence modeling tasks,most deep learning practitioners take recurrent networks as the default starting point. Howerver, convolutional architectures also reach SOTA accuracy in some sequence modeling tasks such as audio synthesis and machine translation. Whether these convolutional sequence modeling generalize to different domains so that when given a new sequence modeling task or dataset, parctitioners can choose from recurrent networks and convolutional networks"
   ]
  },
  {
   "cell_type": "markdown",
   "metadata": {},
   "source": [
    "#### An Empirical Evaluation of Generic Convolutional and Recurrent Networks for Sequence Modeling"
   ]
  },
  {
   "cell_type": "markdown",
   "metadata": {},
   "source": [
    "The purpose of this study was to evaluate generic convolutional and recurrent architectures for sequence modeling.It was an experimental research study that compare performance of convolutional networks and recurrent networks in different sequence modeling tasks such as polyphonic music modeling, word-and-character-level language modeling. Through this study, we can test the ability of convolutional networks in sequence modeling and find out whether common association between sequence modeling and recurrent networks should be reconsidered."
   ]
  },
  {
   "cell_type": "markdown",
   "metadata": {},
   "source": [
    "They described a generic architecture for convolutional sequence prediction called temporal convolutional networks(TCN) with distinguishing characteristics such as causal convolutional, arbitrary input sequence length, identical sequence length of input and output, longer history dependence through the residual layers and dilated convolutions"
   ]
  },
  {
   "cell_type": "markdown",
   "metadata": {},
   "source": [
    "This artical conducts a systematic evaluation of generic convolutional and recurrent architectures for sequence modeling. \n",
    "\n",
    "They compared the TCN architecture, LSTM, GRU and vanilla RNN with roughly same model size in 11 sequence modeling taks and show the results in table[1]."
   ]
  },
  {
   "cell_type": "markdown",
   "metadata": {},
   "source": [
    "The experiment results showed that generic TCN architecture outperforms canonical recurrent architectures across a broad variety of sequence modeling tasks that are commonly used to benchmark the performance of recurrent architectures themselves."
   ]
  },
  {
   "cell_type": "markdown",
   "metadata": {},
   "source": [
    "The major conclusion to this study was that the common association between sequence modeling and recurrent networks should be reconsidered, and convolutional networks should be regarded as a natural starting point for sequence modeling tasks."
   ]
  },
  {
   "cell_type": "markdown",
   "metadata": {},
   "source": [
    "Inspired by this study, we can build our model based on the converlution networks. It's causual converlution is suitble for the time series forecasting, and the ability of finding longer history dependence allows the model find larger pattern from the history data.However in this study the TCN architecture have the same length of input and output sequence. In our taks, photovoltaic generation prediction, there is no limitation of input or output seqeunces. The model should be modified to adapt to our task."
   ]
  },
  {
   "cell_type": "markdown",
   "metadata": {},
   "source": [
    "![TCN](Figure/TCN_Result.png)"
   ]
  },
  {
   "cell_type": "code",
   "execution_count": null,
   "metadata": {},
   "outputs": [],
   "source": []
  }
 ],
 "metadata": {
  "kernelspec": {
   "display_name": "Python 3",
   "language": "python",
   "name": "python3"
  },
  "language_info": {
   "codemirror_mode": {
    "name": "ipython",
    "version": 3
   },
   "file_extension": ".py",
   "mimetype": "text/x-python",
   "name": "python",
   "nbconvert_exporter": "python",
   "pygments_lexer": "ipython3",
   "version": "3.6.7"
  }
 },
 "nbformat": 4,
 "nbformat_minor": 2
}
