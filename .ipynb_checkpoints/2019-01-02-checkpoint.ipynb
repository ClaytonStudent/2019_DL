{
 "cells": [
  {
   "cell_type": "markdown",
   "metadata": {},
   "source": [
    "# Deep Belief Nets"
   ]
  },
  {
   "cell_type": "markdown",
   "metadata": {},
   "source": [
    "Source: https://codeburst.io/deep-learning-deep-belief-network-fundamentals-d0dcfd80d7d4  \n",
    "Source(MUST): https://www.cs.toronto.edu/~hinton/nipstutorial/nipstut3.pdf"
   ]
  },
  {
   "cell_type": "markdown",
   "metadata": {},
   "source": [
    "A Deep Learning Tutorial: From Perceptrons to Deep Networks  \n",
    "Source(EN):https://www.toptal.com/machine-learning/an-introduction-to-deep-learning-from-perceptrons-to-deep-networks  \n",
    "Source(CH): http://www.cnblogs.com/xiaowanyer/p/3701944.html"
   ]
  },
  {
   "cell_type": "markdown",
   "metadata": {},
   "source": [
    "### Definition\n",
    "DBNs are composed of layers of Restricted Boltzmann Machines (RBMs) for the pre-train phase and then a feed-forward network for the fine-tune phase.  "
   ]
  },
  {
   "cell_type": "markdown",
   "metadata": {},
   "source": [
    "### Type:   \n",
    "Unsupervised Pretrained Networks (UPNs)  \n",
    "Fast, Greedy Algorithm  \n",
    "graphical model"
   ]
  },
  {
   "cell_type": "markdown",
   "metadata": {},
   "source": [
    "### Explaining Away\n",
    "Source(CN): https://blog.csdn.net/huangbo10/article/details/23091083  \n",
    "explaining away指的是这样一种情况：对于一个多因一果的问题，假设各种“因”之间都是相互独立的，如果已经确定了是因为其中一种原因导致了结果，那么因为其他原因导致了该结果的概率就会下降。  \n",
    "总结：证据增加（飞机）并不使得事件不确定性（地震）减少"
   ]
  },
  {
   "cell_type": "markdown",
   "metadata": {},
   "source": [
    "### BM:  \n",
    "波尔兹曼机的学习规则是使得学习之后的似然函数取值最大，然而作为无监督学习，似然函数从何而来？波尔兹曼机中定义了一个系统能量，并基于此定义了各个状态的概率。这些都是基于统计热力学得出的。在这一基础上，可以写出似然函数，之后利用梯度方法对网络进行迭代。"
   ]
  },
  {
   "cell_type": "markdown",
   "metadata": {},
   "source": [
    "### Training Method：  \n",
    "首先，我们认为x和h1组成RBM，对其进行训练；之后，固定此处的w，训练h1和h2，并以此类推。"
   ]
  },
  {
   "cell_type": "markdown",
   "metadata": {},
   "source": [
    "### DBN Code\n",
    "Source: http://deeplearning.net/tutorial/DBN.html#dbn"
   ]
  }
 ],
 "metadata": {
  "kernelspec": {
   "display_name": "Python 3",
   "language": "python",
   "name": "python3"
  },
  "language_info": {
   "codemirror_mode": {
    "name": "ipython",
    "version": 3
   },
   "file_extension": ".py",
   "mimetype": "text/x-python",
   "name": "python",
   "nbconvert_exporter": "python",
   "pygments_lexer": "ipython3",
   "version": "3.6.7"
  }
 },
 "nbformat": 4,
 "nbformat_minor": 2
}
