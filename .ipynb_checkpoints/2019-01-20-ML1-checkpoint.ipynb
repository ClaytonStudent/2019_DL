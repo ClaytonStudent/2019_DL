{
 "cells": [
  {
   "cell_type": "markdown",
   "metadata": {},
   "source": [
    "# 1. inductive learning"
   ]
  },
  {
   "cell_type": "markdown",
   "metadata": {},
   "source": [
    "# 1.0 Transductive learning\n",
    "\n",
    "Source(CN): http://blog.sciencenet.cn/blog-790781-704686.html\n",
    "\n",
    "利用未标记示例的主流学习技术主要有三大类:  \n",
    "1. 半监督学习（semi-supervised learning):学习器试图自行利用未标记示例，即整个学习过程不需人工干预，仅基于学习器自身对未标记示例进行利用  \n",
    "2. 直推学习（transductive learning):直推学习假定未标记示例就是测试例，即学习的目的就是在这些未标记示例上取得最佳泛化能力  \n",
    "3. 主动学习（active learning）"
   ]
  },
  {
   "cell_type": "markdown",
   "metadata": {},
   "source": [
    "## 1.2  Induktion vs. Deduktion\n",
    "![ID](Figure/ML_Induktion_Deduktion.png)\n",
    "![ID2](Figure/ML_Induktion_Deduktion_2.png)\n",
    "### 1.2.1 Induktion \n",
    "Induktion: Prozess des plausiblen Schließens vom Speziellen zum Allgemeinen\n",
    "### 1.2.2 Induktion Lernhypothese\n",
    "Jede Hypothese, die die Zielfunktion über einer genügend großen Menge von Trainingsbeispielen gut genug approximiert, wird die Zielfunktion auch über unbekannten Beispielen gut approximieren.\n",
    "\n",
    "### 1.2.3 Konsistenz\n",
    "Keine negativen Beispiele werden positiv klassifiziert.  \n",
    "### 1.2.4 Vollständigkeit\n",
    "Alle positiven Beispiele werden als positiv klassifiziert.\n"
   ]
  },
  {
   "cell_type": "markdown",
   "metadata": {},
   "source": [
    "## 1.3 Hypothesenraum\n",
    "\n",
    "1. Suche vom Allgemeinen zum Speziellen: Negative Beispiele: Spezialisierung\n",
    "2. Suche vom Speziellen zum Allgemeinen:Positive Beispiele: (minimale) Verallgemeinerung  \n",
    "3. Versionsraum(Version Space) \n",
    "\n",
    "### 1.3.1 Versionsraum (Version Space)\n",
    "Source(EN): http://www2.cs.uregina.ca/~dbd/cs831/notes/ml/vspace/3_vspace.html  \n",
    "Source(CN): https://www.jianshu.com/p/5ba037200102   \n",
    "Source(CN): https://www.jianshu.com/p/5cd71856cb6e\n",
    "\n",
    "步骤：  \n",
    "如果给定的训练集是正例，那么泛化当前的特化模型使得其包含该正例，同时剔除不能包含该正例的泛化模型；  \n",
    "如果给定的训练集是负例，那么特化当前所有的的泛化模型来包含这个负例，同时剔除无法包含这个负例的特化模型；  \n",
    "删除任何可以被其他模型描述的模型  \n",
    "直到特化模型与泛化模型相同时，我们想要寻找的版本空间就诞生了"
   ]
  },
  {
   "cell_type": "markdown",
   "metadata": {},
   "source": [
    "## 1.4 Inductive bias\n",
    "Source(CN): https://zh.wikipedia.org/wiki/%E6%AD%B8%E7%B4%8D%E5%81%8F%E7%BD%AE  \n",
    "Source(EN): https://stackoverflow.com/questions/35655267/what-is-inductive-bias-on-machine-learning\n",
    "\n",
    "Given a data set, which learning model (=Inductive Bias) should be chosen? Inductive Bias has some prior assumptions about the tasks.  \n",
    "(Example: Maximum conditional independence)"
   ]
  },
  {
   "cell_type": "markdown",
   "metadata": {},
   "source": [
    "# 2. Unüberwachtes Lernen\n",
    "\n",
    "## 2.1 Motivation & Einführung\n",
    "Source(CN):各种聚类算法 https://www.cnblogs.com/tgzhu/p/7279573.html\n",
    "\n",
    "### 2.1.1 Why unüberwachtes lernen?\n",
    "1. Sammeln und Klassifizieren von Trainingsdaten kann sehr aufwändig sein\n",
    "2. Engineering z.B: Merkmalsberechnung der Daten kann sehr aufwendig sein\n",
    "3. Data Mining\n",
    "4. Sich verändernde Charakteristika von Mustern\n",
    "5. Finden von neuen Eigenschaften\n",
    "6. Erste Erkenntnisse über Struktur von Daten\n",
    "\n",
    "### 2.1.2 Lernverfahren\n",
    "#### Klassische\n",
    "1. k-means-Clustering\n",
    "2. Agglomerative Hierarchical Clustering\n",
    "\n",
    "#### Concept Formation \n",
    "COBWEB / CLASSIT"
   ]
  },
  {
   "cell_type": "markdown",
   "metadata": {},
   "source": [
    "## 2.2 K-means-Clustering"
   ]
  },
  {
   "cell_type": "markdown",
   "metadata": {},
   "source": [
    "### 2.2.1 Beurteilung  \n",
    "Pos: Sehr elementar aber populär  \n",
    "Neg: Resultate hängen stark von der initialen Belegung der cj ab  \n",
    "Neg: Resultate hängen von der verwendeten Metrik |x - cj| ab(Curse of dimensionality)  \n",
    "Neg: Resultate hängen von der korrekten Wahl von k ab(Overfitting)  "
   ]
  },
  {
   "cell_type": "markdown",
   "metadata": {},
   "source": [
    "### 2.2.2 Lösung:  \n",
    "Algorithmus mehrfach mit unterschiedlichen Startpunkten anstoßen  \n",
    "Mehrmaliges Anstoßen des k-means-Verfahren mit unterschiedlichen k."
   ]
  },
  {
   "cell_type": "markdown",
   "metadata": {},
   "source": [
    "### 2.2.3 Code\n",
    "#### 2.2.3.1 Sklearn Code\n",
    "\n",
    "from sklearn.cluster import KMeans\n",
    "import numpy as np\n",
    "X = np.array([[1, 2], [1, 4], [1, 0],\n",
    "              [4, 2], [4, 4], [4, 0]])\n",
    "kmeans = KMeans(n_clusters=2, random_state=0).fit(X)\n",
    "kmeans.labels_\n",
    "\n",
    "kmeans.predict([[0, 0], [4, 4]])\n",
    "\n",
    "kmeans.cluster_centers_"
   ]
  },
  {
   "cell_type": "code",
   "execution_count": null,
   "metadata": {},
   "outputs": [],
   "source": [
    "#### 2.2.3.2 My Code\n",
    "\n",
    "import matplotlib.pyplot as plt\n",
    "plt.scatter(X[:,0],X[:,1],label='Raw data')\n",
    "#plt.scatter(C[:,0],C[:,1],label = 'Origin center')\n",
    "plt.scatter(C_new[:,0],C_new[:,1],label = 'Center')\n",
    "plt.legend()\n",
    "\n",
    "def distence(X):\n",
    "    labels = [0 for i in range(len(X))]\n",
    "    for i in range(len(X)):\n",
    "        labels[i] = np.sqrt(X[i,0]**2 + X[i,1]**2)\n",
    "    return np.array(labels)\n",
    "\n",
    "def calculate_label(X,C):\n",
    "    distence1 = distence(X-C[0])\n",
    "    distence2 = distence(X-C[1])\n",
    "    temp = distence1 - distence2\n",
    "    labels = [0 if i<0 else 1 for i in temp]\n",
    "    return np.array(labels)\n",
    "\n",
    "def calculate_center(X,labels,C):\n",
    "    center = np.array([[0,0],[0,0]])\n",
    "    center[0] = np.mean(np.array([X[i] for i in range(len(X)) if labels[i]==0]),axis=0)\n",
    "    center[1] = np.mean(np.array([X[i] for i in range(len(X)) if labels[i]==1]),axis=0)\n",
    "    return center\n",
    "\n",
    "#### 2.2.3.3 Online Code\n",
    "Source(EN): http://benalexkeen.com/k-means-clustering-in-python/\n",
    "\n",
    "## Initialisation\n",
    "\n",
    "import pandas as pd\n",
    "import numpy as np\n",
    "import matplotlib.pyplot as plt\n",
    "%matplotlib inline\n",
    "\n",
    "df = pd.DataFrame({\n",
    "    'x': [12, 20, 28, 18, 29, 33, 24, 45, 45, 52, 51, 52, 55, 53, 55, 61, 64, 69, 72],\n",
    "    'y': [39, 36, 30, 52, 54, 46, 55, 59, 63, 70, 66, 63, 58, 23, 14, 8, 19, 7, 24]\n",
    "})\n",
    "\n",
    "\n",
    "np.random.seed(200)\n",
    "k = 3\n",
    "# centroids[i] = [x, y]\n",
    "centroids = {\n",
    "    i+1: [np.random.randint(0, 80), np.random.randint(0, 80)]\n",
    "    for i in range(k)\n",
    "}\n",
    "    \n",
    "fig = plt.figure(figsize=(5, 5))\n",
    "plt.scatter(df['x'], df['y'], color='k')\n",
    "colmap = {1: 'r', 2: 'g', 3: 'b'}\n",
    "for i in centroids.keys():\n",
    "    plt.scatter(*centroids[i], color=colmap[i])\n",
    "plt.xlim(0, 80)\n",
    "plt.ylim(0, 80)\n",
    "\n",
    "## Assignment Stage\n",
    "\n",
    "def assignment(df, centroids):\n",
    "    for i in centroids.keys():\n",
    "        # sqrt((x1 - x2)^2 - (y1 - y2)^2)\n",
    "        df['distance_from_{}'.format(i)] = (\n",
    "            np.sqrt(\n",
    "                (df['x'] - centroids[i][0]) ** 2\n",
    "                + (df['y'] - centroids[i][1]) ** 2\n",
    "            )\n",
    "        )\n",
    "    centroid_distance_cols = ['distance_from_{}'.format(i) for i in centroids.keys()]\n",
    "    df['closest'] = df.loc[:, centroid_distance_cols].idxmin(axis=1)\n",
    "    df['closest'] = df['closest'].map(lambda x: int(x.lstrip('distance_from_')))\n",
    "    df['color'] = df['closest'].map(lambda x: colmap[x])\n",
    "    return df\n",
    "\n",
    "df = assignment(df, centroids)\n",
    "print(df.head())\n",
    "\n",
    "fig = plt.figure(figsize=(5, 5))\n",
    "plt.scatter(df['x'], df['y'], color=df['color'], alpha=0.5, edgecolor='k')\n",
    "for i in centroids.keys():\n",
    "    plt.scatter(*centroids[i], color=colmap[i])\n",
    "plt.xlim(0, 80)\n",
    "plt.ylim(0, 80)\n",
    "plt.show()\n",
    "\n",
    "import copy\n",
    "\n",
    "old_centroids = copy.deepcopy(centroids)\n",
    "\n",
    "def update(k):\n",
    "    for i in centroids.keys():\n",
    "        centroids[i][0] = np.mean(df[df['closest'] == i]['x'])\n",
    "        centroids[i][1] = np.mean(df[df['closest'] == i]['y'])\n",
    "    return k\n",
    "\n",
    "centroids = update(centroids)\n",
    "    \n",
    "fig = plt.figure(figsize=(5, 5))\n",
    "ax = plt.axes()\n",
    "plt.scatter(df['x'], df['y'], color=df['color'], alpha=0.5, edgecolor='k')\n",
    "for i in centroids.keys():\n",
    "    plt.scatter(*centroids[i], color=colmap[i])\n",
    "plt.xlim(0, 80)\n",
    "plt.ylim(0, 80)\n",
    "for i in old_centroids.keys():\n",
    "    old_x = old_centroids[i][0]\n",
    "    old_y = old_centroids[i][1]\n",
    "    dx = (centroids[i][0] - old_centroids[i][0]) * 0.75\n",
    "    dy = (centroids[i][1] - old_centroids[i][1]) * 0.75\n",
    "    ax.arrow(old_x, old_y, dx, dy, head_width=2, head_length=3, fc=colmap[i], ec=colmap[i])\n",
    "plt.show()"
   ]
  },
  {
   "cell_type": "markdown",
   "metadata": {},
   "source": [
    "## 2.3 Fuzzy-k-means-Clustering\n",
    "jeder Datenpunkt xi hat eine abgestufte / „unscharfe“ Zugehörigkeit zu jedem Cluster Xj"
   ]
  },
  {
   "cell_type": "markdown",
   "metadata": {},
   "source": [
    "## 2.4 Hierarchische Ballungsanalyse"
   ]
  },
  {
   "cell_type": "markdown",
   "metadata": {},
   "source": [
    "### 2.4.1 Bewertung\n",
    "1. Einfaches Verfahren\n",
    "2. Besser geeignet als k-means Clustering\n",
    "3. Unabhängig von Initialwerten\n",
    "4. Finden der richtigen Parameter nötig\n",
    "5. Rauschanfällig"
   ]
  },
  {
   "cell_type": "markdown",
   "metadata": {},
   "source": [
    "### 2.4.2  Hierarchical Clustering\n",
    "Source(EN): https://www.saedsayad.com/clustering_hierarchical.htm  \n",
    "Source(CN): http://bluewhale.cc/2016-04-19/hierarchical-clustering.html#ixzz4aoqRucXK\n",
    "\n",
    "Divisive: Top-Down  \n",
    "Agglomerative: Bottom-Up\n",
    "\n",
    "Single Linkage: the distance between two clusters is defined as the shortest distance between two points in each cluster\n",
    "![](Figure/Single_Linkage.png)\n",
    "Complete Linkage: the distance between two clusters is defined as the largest distance between two points in each cluster\n",
    "![](Figure/Complete_Linkage.png)\n",
    "Average Linkage: the distance between two clusters is defined as the average distance between each point in one cluster to every point in the other cluster\n",
    "![](Figure/Average_Linkage.png)"
   ]
  },
  {
   "cell_type": "markdown",
   "metadata": {},
   "source": [
    "## 2.5 COBWEB\n",
    "Artical: https://www.aaai.org/Papers/AAAI/1987/AAAI87-082.pdf  \n",
    "Artical: http://www.isle.org/~langley/papers/pch.aij89.pdf  \n",
    "Source(CN): http://www.voidcn.com/article/p-zsjhnepk-bco.html\n",
    "\n",
    "\n",
    "CU（剪切值）的Ai=Vij表示了在条件Ck和没有条件Ck之下的偏差"
   ]
  },
  {
   "cell_type": "code",
   "execution_count": null,
   "metadata": {},
   "outputs": [],
   "source": []
  },
  {
   "cell_type": "markdown",
   "metadata": {},
   "source": [
    "# 3. Lerntheorie, Algorithmenunabhängige Verfahren"
   ]
  },
  {
   "cell_type": "code",
   "execution_count": null,
   "metadata": {},
   "outputs": [],
   "source": []
  },
  {
   "cell_type": "code",
   "execution_count": null,
   "metadata": {},
   "outputs": [],
   "source": []
  },
  {
   "cell_type": "code",
   "execution_count": null,
   "metadata": {},
   "outputs": [],
   "source": []
  },
  {
   "cell_type": "code",
   "execution_count": null,
   "metadata": {},
   "outputs": [],
   "source": []
  },
  {
   "cell_type": "code",
   "execution_count": null,
   "metadata": {},
   "outputs": [],
   "source": []
  }
 ],
 "metadata": {
  "kernelspec": {
   "display_name": "Python 3",
   "language": "python",
   "name": "python3"
  },
  "language_info": {
   "codemirror_mode": {
    "name": "ipython",
    "version": 3
   },
   "file_extension": ".py",
   "mimetype": "text/x-python",
   "name": "python",
   "nbconvert_exporter": "python",
   "pygments_lexer": "ipython3",
   "version": "3.6.7"
  }
 },
 "nbformat": 4,
 "nbformat_minor": 2
}
