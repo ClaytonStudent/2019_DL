{
 "cells": [
  {
   "cell_type": "markdown",
   "metadata": {},
   "source": [
    "### LeNEt\n",
    "Source(CN):https://zhuanlan.zhihu.com/p/28333410   \n",
    "Code: https://github.com/BIGBALLON/cifar-10-cnn/tree/master/1_Lecun_Network  \n",
    "\n",
    "\n",
    "Source(CN): https://zhuanlan.zhihu.com/p/22447440"
   ]
  },
  {
   "cell_type": "markdown",
   "metadata": {},
   "source": [
    "![LeNet](Figure/LeNet.jpg)"
   ]
  },
  {
   "cell_type": "markdown",
   "metadata": {},
   "source": [
    "### Subsampling = Pooling\n",
    "下采样 = 池化"
   ]
  },
  {
   "cell_type": "markdown",
   "metadata": {},
   "source": [
    "### Some Tricks\n",
    "Source(EN): http://lamda.nju.edu.cn/weixs/project/CNNTricks/CNNTricks.html"
   ]
  },
  {
   "cell_type": "markdown",
   "metadata": {},
   "source": [
    "### Batch_Size vs. interations vs. Epochs\n",
    "Source(EN): https://towardsdatascience.com/epoch-vs-iterations-vs-batch-size-4dfb9c7ce9c9"
   ]
  },
  {
   "cell_type": "markdown",
   "metadata": {},
   "source": [
    "### 1. LeNet"
   ]
  },
  {
   "cell_type": "code",
   "execution_count": 15,
   "metadata": {},
   "outputs": [],
   "source": [
    "import keras\n",
    "from keras import optimizers\n",
    "from keras.datasets import cifar10\n",
    "from keras.models import Sequential\n",
    "from keras.layers import Conv2D, Dense, Flatten, MaxPooling2D\n",
    "from keras.callbacks import LearningRateScheduler, TensorBoard\n",
    "from keras.regularizers import l2"
   ]
  },
  {
   "cell_type": "code",
   "execution_count": 18,
   "metadata": {},
   "outputs": [],
   "source": [
    "batch_size    = 128\n",
    "epochs        = 10\n",
    "iterations    = 391\n",
    "num_classes   = 10\n",
    "log_filepath  = './lenet'\n",
    "weight_decay  = 0.0001"
   ]
  },
  {
   "cell_type": "code",
   "execution_count": 16,
   "metadata": {},
   "outputs": [],
   "source": [
    "# add weight decay\n",
    "def build_model():\n",
    "    model = Sequential()\n",
    "    model.add(Conv2D(6,(5,5),padding='valid',activation='relu',kernel_initializer='he_normal',kernel_regularizer=l2(weight_decay),input_shape=(32,32,3)))\n",
    "    model.add(MaxPooling2D((2,2),strides=(2,2)))\n",
    "    model.add(Conv2D(16,(5,5),padding='valid',activation='relu',kernel_initializer='he_normal',kernel_regularizer=l2(weight_decay)))\n",
    "    model.add(MaxPooling2D((2,2),strides=(2,2)))\n",
    "    model.add(Flatten())\n",
    "    model.add(Dense(120,activation='relu',kernel_initializer='he_normal',kernel_regularizer=l2(weight_decay)))\n",
    "    model.add(Dense(84,activation='relu',kernel_initializer='he_normal',kernel_regularizer=l2(weight_decay)))\n",
    "    model.add(Dense(10,activation='softmax',kernel_initializer='he_normal',kernel_regularizer=l2(weight_decay)))\n",
    "    sgd = optimizers.SGD(lr=.1, momentum=0.9, nesterov=True)\n",
    "    model.compile(loss='categorical_crossentropy',optimizer=sgd,metrics=['accuracy'])\n",
    "    return model\n"
   ]
  },
  {
   "cell_type": "code",
   "execution_count": 4,
   "metadata": {},
   "outputs": [],
   "source": [
    "def scheduler(epoch):\n",
    "    learning_rate_init = 0.02\n",
    "    if epoch >= 80:\n",
    "        learning_rate_init = 0.01\n",
    "    if epoch >= 150:\n",
    "        learning_rate_init = 0.004\n",
    "    return learning_rate_init"
   ]
  },
  {
   "cell_type": "code",
   "execution_count": 5,
   "metadata": {
    "scrolled": true
   },
   "outputs": [],
   "source": [
    "# load data\n",
    "(x_train, y_train), (x_test, y_test) = cifar10.load_data()\n",
    "y_train = keras.utils.to_categorical(y_train, num_classes)\n",
    "y_test = keras.utils.to_categorical(y_test, num_classes)\n",
    "x_train = x_train.astype('float32')\n",
    "x_test = x_test.astype('float32')"
   ]
  },
  {
   "cell_type": "code",
   "execution_count": 6,
   "metadata": {},
   "outputs": [
    {
     "data": {
      "text/plain": [
       "(50000, 32, 32, 3)"
      ]
     },
     "execution_count": 6,
     "metadata": {},
     "output_type": "execute_result"
    }
   ],
   "source": [
    "x_train.shape"
   ]
  },
  {
   "cell_type": "code",
   "execution_count": 7,
   "metadata": {},
   "outputs": [],
   "source": [
    "# Normalization\n",
    "mean  = [125.307, 122.95, 113.865]\n",
    "std   = [62.9932, 62.0887, 66.7048]\n",
    "for i in range(3):\n",
    "    x_train[:,:,:,i] = (x_train[:,:,:,i] - mean[i]) / std[i]\n",
    "    x_test[:,:,:,i] = (x_test[:,:,:,i] - mean[i]) / std[i]\n"
   ]
  },
  {
   "cell_type": "code",
   "execution_count": 19,
   "metadata": {
    "scrolled": true
   },
   "outputs": [
    {
     "name": "stdout",
     "output_type": "stream",
     "text": [
      "_________________________________________________________________\n",
      "Layer (type)                 Output Shape              Param #   \n",
      "=================================================================\n",
      "conv2d_3 (Conv2D)            (None, 28, 28, 6)         456       \n",
      "_________________________________________________________________\n",
      "max_pooling2d_3 (MaxPooling2 (None, 14, 14, 6)         0         \n",
      "_________________________________________________________________\n",
      "conv2d_4 (Conv2D)            (None, 10, 10, 16)        2416      \n",
      "_________________________________________________________________\n",
      "max_pooling2d_4 (MaxPooling2 (None, 5, 5, 16)          0         \n",
      "_________________________________________________________________\n",
      "flatten_2 (Flatten)          (None, 400)               0         \n",
      "_________________________________________________________________\n",
      "dense_4 (Dense)              (None, 120)               48120     \n",
      "_________________________________________________________________\n",
      "dense_5 (Dense)              (None, 84)                10164     \n",
      "_________________________________________________________________\n",
      "dense_6 (Dense)              (None, 10)                850       \n",
      "=================================================================\n",
      "Total params: 62,006\n",
      "Trainable params: 62,006\n",
      "Non-trainable params: 0\n",
      "_________________________________________________________________\n",
      "None\n"
     ]
    }
   ],
   "source": [
    "# build network\n",
    "model = build_model()\n",
    "print(model.summary())"
   ]
  },
  {
   "cell_type": "code",
   "execution_count": 9,
   "metadata": {},
   "outputs": [],
   "source": [
    " # set callback\n",
    "tb_cb = TensorBoard(log_dir=log_filepath, histogram_freq=0)\n",
    "change_lr = LearningRateScheduler(scheduler)\n",
    "cbks = [change_lr,tb_cb]    "
   ]
  },
  {
   "cell_type": "code",
   "execution_count": 20,
   "metadata": {
    "scrolled": false
   },
   "outputs": [
    {
     "name": "stdout",
     "output_type": "stream",
     "text": [
      "Using real-time data augmentation.\n",
      "Epoch 1/10\n",
      "391/391 [==============================] - 54s 138ms/step - loss: 1.9419 - acc: 0.2982 - val_loss: 1.6254 - val_acc: 0.4224\n",
      "Epoch 2/10\n",
      "391/391 [==============================] - 48s 124ms/step - loss: 1.6513 - acc: 0.4158 - val_loss: 1.5016 - val_acc: 0.4804\n",
      "Epoch 3/10\n",
      "391/391 [==============================] - 49s 124ms/step - loss: 1.5409 - acc: 0.4578 - val_loss: 1.4496 - val_acc: 0.4989\n",
      "Epoch 4/10\n",
      "391/391 [==============================] - 48s 124ms/step - loss: 1.4652 - acc: 0.4876 - val_loss: 1.3701 - val_acc: 0.5301\n",
      "Epoch 5/10\n",
      "391/391 [==============================] - 49s 125ms/step - loss: 1.4166 - acc: 0.5084 - val_loss: 1.3840 - val_acc: 0.5372\n",
      "Epoch 6/10\n",
      "391/391 [==============================] - 48s 124ms/step - loss: 1.3886 - acc: 0.5214 - val_loss: 1.3091 - val_acc: 0.5560\n",
      "Epoch 7/10\n",
      "391/391 [==============================] - 51s 129ms/step - loss: 1.3550 - acc: 0.5363 - val_loss: 1.3793 - val_acc: 0.5468\n",
      "Epoch 8/10\n",
      "391/391 [==============================] - 61s 157ms/step - loss: 1.3352 - acc: 0.5427 - val_loss: 1.2833 - val_acc: 0.5676\n",
      "Epoch 9/10\n",
      "391/391 [==============================] - 51s 130ms/step - loss: 1.3095 - acc: 0.5517 - val_loss: 1.2684 - val_acc: 0.5674\n",
      "Epoch 10/10\n",
      "391/391 [==============================] - 50s 129ms/step - loss: 1.2973 - acc: 0.5552 - val_loss: 1.2354 - val_acc: 0.5917\n"
     ]
    },
    {
     "data": {
      "text/plain": [
       "<keras.callbacks.History at 0x10d2efd68>"
      ]
     },
     "execution_count": 20,
     "metadata": {},
     "output_type": "execute_result"
    }
   ],
   "source": [
    "# data augmentation\n",
    "from keras.preprocessing.image import ImageDataGenerator\n",
    "print('Using real-time data augmentation.')\n",
    "datagen = ImageDataGenerator(horizontal_flip=True,\n",
    "            width_shift_range=0.125,height_shift_range=0.125,fill_mode='constant',cval=0.)\n",
    "\n",
    "datagen.fit(x_train)\n",
    "\n",
    "    # start train \n",
    "model.fit_generator(datagen.flow(x_train, y_train,batch_size=batch_size),\n",
    "                        steps_per_epoch=iterations,\n",
    "                        epochs=epochs,\n",
    "                        callbacks=cbks,\n",
    "                        validation_data=(x_test, y_test))"
   ]
  },
  {
   "cell_type": "code",
   "execution_count": 10,
   "metadata": {
    "scrolled": false
   },
   "outputs": [
    {
     "name": "stdout",
     "output_type": "stream",
     "text": [
      "Train on 50000 samples, validate on 10000 samples\n",
      "Epoch 1/10\n",
      "50000/50000 [==============================] - 43s 854us/step - loss: 1.7778 - acc: 0.3520 - val_loss: 1.5074 - val_acc: 0.4409\n",
      "Epoch 2/10\n",
      "50000/50000 [==============================] - 42s 840us/step - loss: 1.4654 - acc: 0.4689 - val_loss: 1.4448 - val_acc: 0.4743\n",
      "Epoch 3/10\n",
      "50000/50000 [==============================] - 46s 917us/step - loss: 1.3483 - acc: 0.5161 - val_loss: 1.4604 - val_acc: 0.4814\n",
      "Epoch 4/10\n",
      "50000/50000 [==============================] - 46s 922us/step - loss: 1.2787 - acc: 0.5438 - val_loss: 1.2917 - val_acc: 0.5381\n",
      "Epoch 5/10\n",
      "50000/50000 [==============================] - 45s 895us/step - loss: 1.2219 - acc: 0.5658 - val_loss: 1.3117 - val_acc: 0.5474\n",
      "Epoch 6/10\n",
      "50000/50000 [==============================] - 44s 879us/step - loss: 1.1690 - acc: 0.5818 - val_loss: 1.2256 - val_acc: 0.5762\n",
      "Epoch 7/10\n",
      "50000/50000 [==============================] - 47s 945us/step - loss: 1.1259 - acc: 0.5972 - val_loss: 1.1901 - val_acc: 0.5795\n",
      "Epoch 8/10\n",
      "50000/50000 [==============================] - 42s 846us/step - loss: 1.0892 - acc: 0.6118 - val_loss: 1.1976 - val_acc: 0.5808\n",
      "Epoch 9/10\n",
      "50000/50000 [==============================] - 42s 843us/step - loss: 1.0573 - acc: 0.6237 - val_loss: 1.1467 - val_acc: 0.5948\n",
      "Epoch 10/10\n",
      "50000/50000 [==============================] - 41s 813us/step - loss: 1.0264 - acc: 0.6342 - val_loss: 1.1596 - val_acc: 0.5962\n"
     ]
    },
    {
     "data": {
      "text/plain": [
       "<keras.callbacks.History at 0xb33e3d128>"
      ]
     },
     "execution_count": 10,
     "metadata": {},
     "output_type": "execute_result"
    }
   ],
   "source": [
    "# start traing \n",
    "model.fit(x_train, y_train,batch_size=batch_size,epochs=epochs,callbacks=cbks,validation_data=(x_test, y_test), shuffle=True)\n",
    "    # save model\n",
    "#model.save('lenet.h5')"
   ]
  },
  {
   "cell_type": "markdown",
   "metadata": {},
   "source": [
    "### 2. LeNet improvement (10 Epochs)\n",
    "0. BaseModel acc(0.6486)\n",
    "1. nomalization  acc(0.5962)\n",
    "2. data augmentation acc(0.6299)\n",
    "3. weight decay (0.5917)   "
   ]
  }
 ],
 "metadata": {
  "kernelspec": {
   "display_name": "Python 3",
   "language": "python",
   "name": "python3"
  },
  "language_info": {
   "codemirror_mode": {
    "name": "ipython",
    "version": 3
   },
   "file_extension": ".py",
   "mimetype": "text/x-python",
   "name": "python",
   "nbconvert_exporter": "python",
   "pygments_lexer": "ipython3",
   "version": "3.6.7"
  }
 },
 "nbformat": 4,
 "nbformat_minor": 2
}
