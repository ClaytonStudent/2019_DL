{
 "cells": [
  {
   "cell_type": "markdown",
   "metadata": {},
   "source": [
    "# Deep learning in neural network: An overview"
   ]
  },
  {
   "cell_type": "markdown",
   "metadata": {},
   "source": [
    "Aim: know history of deep learning, know concept of deep learning"
   ]
  },
  {
   "cell_type": "markdown",
   "metadata": {},
   "source": [
    "TODO:  \n",
    "read On the difficulty of training recurrent neural networks 解决梯度爆炸问题  \n",
    "https://towardsdatascience.com/the-fall-of-rnn-lstm-2d1594c74ce0 LSTM之后"
   ]
  },
  {
   "cell_type": "markdown",
   "metadata": {},
   "source": [
    "## Abbreviation"
   ]
  },
  {
   "cell_type": "markdown",
   "metadata": {},
   "source": [
    "### Encoder-Decoder\n",
    "Source(CN): https://blog.csdn.net/u014595019/article/details/52826423  \n",
    "Source(CN): https://zhuanlan.zhihu.com/p/36003146  \n",
    "所谓编码，就是将输入序列转化成一个固定长度的向量；解码，就是将之前生成的固定向量再转化成输出序列。 "
   ]
  },
  {
   "cell_type": "markdown",
   "metadata": {},
   "source": [
    "![Encoder_Decoder](Figure/)"
   ]
  },
  {
   "cell_type": "markdown",
   "metadata": {},
   "source": [
    "### Attention Model\n",
    "这种模型在产生输出的时候，还会产生一个“注意力范围”表示接下来输出的时候要重点关注输入序列中的哪些部分，然后根据关注的区域来产生下一个输出，如此往复。"
   ]
  },
  {
   "cell_type": "markdown",
   "metadata": {},
   "source": [
    "### CAP(Credit Assignment Path)\n",
    "Chain of transformation from input to output  "
   ]
  },
  {
   "cell_type": "markdown",
   "metadata": {},
   "source": [
    "### CEC(Constant Error Carousel)\n",
    "LSTM中解决梯度爆炸问题   \n",
    "Source(CH): https://www.jiqizhixin.com/articles/2017-12-21-14  \n",
    "The CEC is a solution to have long term dependencies. It partially solves the problem of vanishing or exploding Gradient."
   ]
  },
  {
   "cell_type": "markdown",
   "metadata": {},
   "source": [
    "### CTC(Connectionist Temporal Classification)  \n",
    "CTC是计算一种损失值，主要的优点是可以对没有对齐的数据进行自动对齐    \n",
    "Source(CH): https://blog.csdn.net/luodongri/article/details/77005948  \n",
    "Source(EN): https://towardsdatascience.com/intuitively-understanding-connectionist-temporal-classification-3797e43a86c"
   ]
  },
  {
   "cell_type": "markdown",
   "metadata": {},
   "source": [
    "### DBF(Deep Belief Network)  \n",
    "A type of Unsupervised Pretrained Networks (UPNs)  \n",
    "DBNs are composed of layers of Restricted Boltzmann Machines (RBMs) for the pre-train phase and then a feed-forward network for the fine-tune phase.   \n",
    "Source: https://codeburst.io/deep-learning-deep-belief-network-fundamentals-d0dcfd80d7d4  \n",
    "Source(MUST): https://www.cs.toronto.edu/~hinton/nipstutorial/nipstut3.pdf"
   ]
  },
  {
   "cell_type": "markdown",
   "metadata": {},
   "source": [
    "### DCT(Discrete Cosine Transform)\n",
    "离散余弦变换，类似于傅立叶变换"
   ]
  },
  {
   "cell_type": "markdown",
   "metadata": {},
   "source": [
    "### DP(Dynamic programming)\n",
    "动态规划"
   ]
  },
  {
   "cell_type": "markdown",
   "metadata": {},
   "source": [
    "### OCR(Optical Character Recognition)\n",
    "OCR technology is a software that scans documents containing texts and converts them into documents that can be edited."
   ]
  },
  {
   "cell_type": "markdown",
   "metadata": {},
   "source": [
    "### R-prop(Resilient Backpropagation)\n",
    "弹性反向传播，升级版RMSprop"
   ]
  },
  {
   "cell_type": "markdown",
   "metadata": {},
   "source": [
    "### spectral radius \n",
    "谱半径，特征值的最大绝对值   \n",
    "The spectral radius of the recurrent weight matrix is bigger than 1 makes exploding gradients possible   \n",
    "The spectral radius smaller than 1 makes it vanish"
   ]
  },
  {
   "cell_type": "markdown",
   "metadata": {},
   "source": [
    "### TDNN(Time Delay Neural Network)"
   ]
  },
  {
   "cell_type": "markdown",
   "metadata": {},
   "source": [
    "### SLIM NN(Self-Delimiting Neural Network)"
   ]
  },
  {
   "cell_type": "markdown",
   "metadata": {},
   "source": [
    "### Markov Random Fields (马尔可夫随机场)  \n",
    "马尔可夫过程:它指的是一个随机变量序列按时间先后关系依次排开的时候，第N+1时刻的分布特性，与N时刻以前的随机变量的取值无关    \n",
    "随机场: 它指当给每一个位置按照某种分布随机赋予相空间的一个值之后，其全体就叫做随机场。位置(site),相空间（phase space）  "
   ]
  },
  {
   "cell_type": "markdown",
   "metadata": {},
   "source": [
    "### Generation model vs. Discriminative model \n",
    "\n",
    "Source(CN):https://blog.csdn.net/zouxy09/article/details/8195017  \n",
    "Source(CN): https://blog.csdn.net/u010358304/article/details/79748153  \n",
    "Geneartion model:生成方法学习联合概率密度分布P(X,Y)，所以就可以从统计的角度表示数据的分布情况，能够反映同类数据本身的相似度。但它不关心到底划分各类的那个分类边界在哪.(Bayes/ Mixed Gaussian / HMM)  \n",
    "Discriminative model: 判别方法直接学习的是决策函数Y=f(X)或者条件概率分布P(Y|X)。不能反映训练数据本身的特性。但它寻找不同类别之间的最优分类面，反映的是异类数据之间的差异.(Preception/ KNN/ Decision tree/ Logistic regression/ SVM/ AdaBoost/ CNN )  "
   ]
  },
  {
   "cell_type": "markdown",
   "metadata": {},
   "source": [
    "### Unsupervised Learning\n",
    "encode raw incoming data in a form that is more convenient for subsequent goal-directed learning. "
   ]
  },
  {
   "cell_type": "markdown",
   "metadata": {},
   "source": [
    "### Something need to be clear:  \n",
    "1. attention-based models(Source: Neural Machine Translation by Jointly Learning to Align and Translate)  \n",
    "2. LSTM variation:GRU/Depth Gated RNN/Clockwork RNN\n",
    "3. Neural Turing Machine(Source:http://www.dengfanxin.cn/?p=60)  \n",
    "4. Temporal convolutional network (TCN)"
   ]
  }
 ],
 "metadata": {
  "kernelspec": {
   "display_name": "Python 3",
   "language": "python",
   "name": "python3"
  },
  "language_info": {
   "codemirror_mode": {
    "name": "ipython",
    "version": 3
   },
   "file_extension": ".py",
   "mimetype": "text/x-python",
   "name": "python",
   "nbconvert_exporter": "python",
   "pygments_lexer": "ipython3",
   "version": "3.6.7"
  }
 },
 "nbformat": 4,
 "nbformat_minor": 2
}
