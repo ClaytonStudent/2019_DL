{
 "cells": [
  {
   "cell_type": "markdown",
   "metadata": {},
   "source": [
    "## Models"
   ]
  },
  {
   "cell_type": "markdown",
   "metadata": {},
   "source": [
    "1. WaveNet/  Seq2Seq CNN / TCN\n",
    "2. FCN + LSTM / ALSTM\n",
    "3. QRNN"
   ]
  },
  {
   "cell_type": "markdown",
   "metadata": {},
   "source": [
    "## Encoder-Decoder\n",
    "![Encoder_Decoder](Figure/Encoder_Decoder.png)"
   ]
  },
  {
   "cell_type": "markdown",
   "metadata": {},
   "source": [
    "## Attention\n",
    "![Attention](Figure/Attention.png)"
   ]
  },
  {
   "cell_type": "markdown",
   "metadata": {},
   "source": [
    "## WaveNet\n",
    "Artical: WaveNet(https://arxiv.org/pdf/1609.03499.pdf)  \n",
    "Source(EN): https://jeddy92.github.io/JEddy92.github.io/ts_seq2seq_conv/  \n",
    "Code:https://github.com/JEddy92/TimeSeries_Seq2Seq/blob/master/notebooks/TS_Seq2Seq_Conv_Intro.ipynb"
   ]
  },
  {
   "cell_type": "markdown",
   "metadata": {},
   "source": [
    "core building block:\n",
    "1. dilated causal convolution layer\n",
    "2. gated activations \n",
    "3. skip connections"
   ]
  },
  {
   "cell_type": "markdown",
   "metadata": {},
   "source": [
    "Summary:  \n",
    "Only use basic dilated causal convolution layer \n",
    "If the data has only one sample, the divide it to samller window,is there a problem that the samples are correlated "
   ]
  },
  {
   "cell_type": "markdown",
   "metadata": {},
   "source": [
    "Applicated Artical: Modeling approaches for time series forecasting and anomaly detection(http://cs229.stanford.edu/proj2017/final-reports/5244275.pdf)"
   ]
  },
  {
   "cell_type": "markdown",
   "metadata": {},
   "source": [
    "## TCN\n",
    "![TCN_FULL](Figure/TCN_FULL.png)"
   ]
  },
  {
   "cell_type": "markdown",
   "metadata": {},
   "source": [
    "#### Sequence Modeling\n",
    "![Sequence_Modelling](Figure/Sequence_Modeling.png)"
   ]
  },
  {
   "cell_type": "markdown",
   "metadata": {},
   "source": [
    "#### Causal Convolutions\n",
    " TCN = 1D FCN + causal convolutions."
   ]
  },
  {
   "cell_type": "markdown",
   "metadata": {},
   "source": [
    "#### Dilated Convolutions\n",
    "![](Figure/Dilated_Convolutions_Al.png)"
   ]
  },
  {
   "cell_type": "markdown",
   "metadata": {},
   "source": [
    "## FCN+LSTM\n",
    "Artical: LSTM Fully Convolutional Networks for Time Series Classification(https://arxiv.org/pdf/1709.05206.pdf)  \n",
    "Code: https://github.com/titu1994/MLSTM-FCN\n"
   ]
  },
  {
   "cell_type": "markdown",
   "metadata": {},
   "source": [
    "![LSTM_FCN](Figure/LSTM_FCN.png)"
   ]
  },
  {
   "cell_type": "markdown",
   "metadata": {},
   "source": [
    "Attention LSTM?"
   ]
  },
  {
   "cell_type": "markdown",
   "metadata": {},
   "source": [
    "## QRNN\n",
    "Artical: Quasi-Recurrent neural network(https://arxiv.org/pdf/1611.01576.pdf)  \n",
    "an approach to neural sequence modeling that alternates convolutional layers, which apply in parallel\n",
    "across timesteps, and a minimalist recurrent pooling function that applies in parallel across channels."
   ]
  },
  {
   "cell_type": "markdown",
   "metadata": {},
   "source": [
    "![QRNN](Figure/QRNN_CNN_RNN.png)"
   ]
  },
  {
   "cell_type": "code",
   "execution_count": null,
   "metadata": {},
   "outputs": [],
   "source": []
  }
 ],
 "metadata": {
  "kernelspec": {
   "display_name": "Python 3",
   "language": "python",
   "name": "python3"
  },
  "language_info": {
   "codemirror_mode": {
    "name": "ipython",
    "version": 3
   },
   "file_extension": ".py",
   "mimetype": "text/x-python",
   "name": "python",
   "nbconvert_exporter": "python",
   "pygments_lexer": "ipython3",
   "version": "3.6.7"
  }
 },
 "nbformat": 4,
 "nbformat_minor": 2
}
