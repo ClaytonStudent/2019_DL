{
 "cells": [
  {
   "cell_type": "markdown",
   "metadata": {},
   "source": [
    "rash   \n",
    "moan / groan   \n",
    "spunk   \n",
    "preemptive  \n",
    "midlife crisis    \n",
    "Oedipal complex    \n",
    "stigmatize   \n",
    "narrative  \n",
    "masculinity  \n",
    "therapist"
   ]
  },
  {
   "cell_type": "markdown",
   "metadata": {},
   "source": [
    "皮疹 / 呻吟 / 精神 / 先发的 / 中年危机 / 恋母情节 / 诬蔑 / 叙述 / 男子气概 / 临床医学家"
   ]
  },
  {
   "cell_type": "code",
   "execution_count": null,
   "metadata": {},
   "outputs": [],
   "source": []
  }
 ],
 "metadata": {
  "kernelspec": {
   "display_name": "Python 3",
   "language": "python",
   "name": "python3"
  },
  "language_info": {
   "codemirror_mode": {
    "name": "ipython",
    "version": 3
   },
   "file_extension": ".py",
   "mimetype": "text/x-python",
   "name": "python",
   "nbconvert_exporter": "python",
   "pygments_lexer": "ipython3",
   "version": "3.6.7"
  }
 },
 "nbformat": 4,
 "nbformat_minor": 2
}
