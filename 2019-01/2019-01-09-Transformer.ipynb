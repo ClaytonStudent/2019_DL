{
 "cells": [
  {
   "cell_type": "markdown",
   "metadata": {},
   "source": [
    "# 1.Transformer\n",
    "ARTICAL: Attention is all you need(https://arxiv.org/pdf/1706.03762.pdf)  \n",
    "Source(CN): https://segmentfault.com/a/1190000015575985  \n",
    "### 1.1 Original Transformer\n",
    "![Transformer](Figure/Transformer.png)\n",
    "### 1.2 hybrid architectures \n",
    "ARTICAL:The Best of Both Worlds(http://aclweb.org/anthology/P18-1008)  \n",
    "a Transformer encoder and an RNN decoder \n",
    "### 1.3 Universal Transformer\n",
    "ARTICAL:  Universal Transformer (https://arxiv.org/pdf/1807.03819.pdf)  \n",
    "Source(CN):   https://zhuanlan.zhihu.com/p/42213742  \n",
    "使用一种新型高效的时间并行循环（parallel-in-time recurrence）方式（可在更广泛任务上产生更强大的结果）把标准 Transformer 扩展为计算通用（图灵完备）模型"
   ]
  },
  {
   "cell_type": "markdown",
   "metadata": {},
   "source": [
    "# 2. Temporal Convolutional Networks\n",
    "ARTICAL: An Empirical Evaluation of Generic Convolutional and Recurrent Networks for Sequence Modeling(https://arxiv.org/pdf/1803.01271.pdf)  \n",
    "ARTICAL: Temporal Convolutional Networks(https://arxiv.org/pdf/1608.08242.pdf)  \n",
    "CODE(PyTorch): https://github.com/locuslab/TCN  \n",
    "CODE(TensorFlow): https://medium.com/the-artificial-impostor/notes-understanding-tensorflow-part-3-7f6633fcc7c7"
   ]
  },
  {
   "cell_type": "markdown",
   "metadata": {},
   "source": [
    "### 2.1 receptive field\n",
    "The receptive field is defined as the region in the input space that a particular CNN’s feature is looking at.  \n",
    "感受野:用来表示网络内部的不同位置的神经元对原图像的感受范围的大小   \n",
    "Source(CN): https://zhuanlan.zhihu.com/p/28492837  \n",
    "计算网站: https://fomoro.com/projects/project/receptive-field-calculator#  \n",
    "计算公式:  \n",
    "![Receptive Field](Figure/Receptive_Field.png)"
   ]
  },
  {
   "cell_type": "markdown",
   "metadata": {},
   "source": [
    "### 2.2 Dilated Causal Convolution\n",
    "Source(EN): https://medium.com/the-artificial-impostor/notes-understanding-tensorflow-part-3-7f6633fcc7c7  \n",
    "ARTICAL:MULTI-SCALE CONTEXT AGGREGATION BY DILATED CONVOLUTIONS（https://arxiv.org/pdf/1511.07122.pdf）  \n",
    "ARTICAL:Understanding Convolution for Semantic Segmentation(https://arxiv.org/pdf/1702.08502.pdf)  \n",
    "ARTICAL:Rethinking Atrous Convolution for Semantic Image Segmentation(https://arxiv.org/pdf/1706.05587.pdf)  \n",
    "#### 2.2.1 up-sampling and pooling layer Problem\n",
    "1. Up-sampling / pooling layer (e.g. bilinear interpolation) is deterministic. (a.k.a. not learnable)\n",
    "2. 内部数据结构丢失；\n",
    "3. 空间层级化信息丢失。小物体信息无法重建 (假设有四个pooling layer 则 任何小于 2^4 = 16 pixel 的物体信息将理论上无法重建。)\n",
    "\n",
    "#### 2.2.2 Dilated Causal Convolution\n",
    "Source(CN): https://www.zhihu.com/question/54149221  \n",
    "空洞卷积/扩张卷积  \n",
    "目的: 不通过pooling(不损失信息)得到较大的感受野，看到更多信息\n",
    "![Dilated_Convolution](Figure/Dilated_Convolution_1d.png)\n",
    "![Dilated_Convolution](Figure/Dilated_Convolution_2d.png)\n",
    "\n",
    "#### 2.2.3 Dilated Convolution Problems\n",
    "1. The Gridding Effect: kernel 并不连续，也就是并不是所有的 pixel 都用来计算了\n",
    "2. Long-ranged information might be not relevant:然而光采用大 dilation rate 的信息或许只对一些大物体分割有效果，而对小物体来说可能则有弊无利了\n",
    "\n",
    "#### 2.2.4 Hybrid Dilated Convolution (HDC)\n",
    "1. 叠加卷积的 dilation rate 不能有大于1的公约数\n",
    "2. 我们将 dilation rate 设计成 锯齿状结构，例如 [1, 2, 5, 1, 2, 5] 循环结构\n",
    "3. 我们需要满足一下这个式子： M_i=\\max[M_{i+1}-2r_i,M_{i+1}-2(M_{i+1}-r_i),r_i]\n",
    "\n",
    "#### 2.2.5 Residual Block\n",
    "![Residual_Block](Figure/Residual_Block.png)\n",
    "\n",
    "#### 2.2.6 Deconvolution Networks\n",
    "Source(CN): https://www.zhihu.com/question/43609045/answer/132235276  \n",
    "\n",
    "#### 2.2.7 Dilated Causal Convolution vs. Deconvolution Networks\n",
    "deconv的其中一个用途是做upsampling，即增大图像尺寸。而dilated conv并不是做upsampling，而是增大感受野。"
   ]
  }
 ],
 "metadata": {
  "kernelspec": {
   "display_name": "Python 3",
   "language": "python",
   "name": "python3"
  },
  "language_info": {
   "codemirror_mode": {
    "name": "ipython",
    "version": 3
   },
   "file_extension": ".py",
   "mimetype": "text/x-python",
   "name": "python",
   "nbconvert_exporter": "python",
   "pygments_lexer": "ipython3",
   "version": "3.6.7"
  }
 },
 "nbformat": 4,
 "nbformat_minor": 2
}
