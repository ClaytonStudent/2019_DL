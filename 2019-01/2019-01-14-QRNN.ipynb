{
 "cells": [
  {
   "cell_type": "markdown",
   "metadata": {},
   "source": [
    "## CNN Background"
   ]
  },
  {
   "cell_type": "markdown",
   "metadata": {},
   "source": [
    "系统介绍： https://juejin.im/entry/5943c7a4a0bb9f006b969082"
   ]
  },
  {
   "cell_type": "markdown",
   "metadata": {},
   "source": [
    "Source(EN): https://ujjwalkarn.me/2016/08/11/intuitive-explanation-convnets/  \n",
    "Source(CN): http://www.hackcv.com/index.php/archives/104/?hmsr=toutiao.io&utm_medium=toutiao.io&utm_source=toutiao.io"
   ]
  },
  {
   "cell_type": "markdown",
   "metadata": {},
   "source": [
    "Source(CN):https://blog.csdn.net/qq_21033779/article/details/78211091"
   ]
  },
  {
   "cell_type": "markdown",
   "metadata": {},
   "source": [
    "CNN filter : depth = channels number , number = next layer depth (neuron number)   \n",
    "深度 = 输入层的深度， 个数=输出层的深度"
   ]
  },
  {
   "cell_type": "markdown",
   "metadata": {},
   "source": [
    "### RNN Structures:\n",
    "Fully recurrent network\n",
    "\n",
    "Recursive neural networks\n",
    "\n",
    "Hopfield network\n",
    "\n",
    "Elman networks and Jordan networks\n",
    "\n",
    "Echo state network\n",
    "\n",
    "Neural history compressor\n",
    "\n",
    "Long short-term memory\n",
    "\n",
    "Gated recurrent unit\n",
    "\n",
    "Bi-directional RNN\n",
    "\n",
    "Continuous-time RNN"
   ]
  },
  {
   "cell_type": "markdown",
   "metadata": {},
   "source": [
    "# QRNN"
   ]
  },
  {
   "cell_type": "markdown",
   "metadata": {},
   "source": [
    "Artical: Quasi-Recurrent neural network(https://arxiv.org/pdf/1611.01576.pdf)  \n",
    "Source(CN): https://www.cnblogs.com/shouhuxianjian/p/7816323.html"
   ]
  },
  {
   "cell_type": "markdown",
   "metadata": {},
   "source": [
    "## Application\n",
    "language modeling ,sentiment classification, character-level neural machine translation"
   ]
  },
  {
   "cell_type": "markdown",
   "metadata": {},
   "source": [
    "## Model Structure"
   ]
  },
  {
   "cell_type": "markdown",
   "metadata": {},
   "source": [
    "Quasi RNN是结合了RNN和CNN的特性：  \n",
    "像CNN一样，基于时间步维度和minibatch维度上进行并行计算，确保对序列数据有高吞吐量和良好的长度缩放性；  \n",
    "像RNN一样，允许输出是依赖于序列中之前的有序元素基础上得到的，即RNN本身的过去时间依赖性"
   ]
  },
  {
   "cell_type": "markdown",
   "metadata": {},
   "source": [
    "![QRNN](Figure/QRNN_CNN_RNN.png)"
   ]
  },
  {
   "cell_type": "markdown",
   "metadata": {},
   "source": [
    "CNN 时间不变性的过滤器函数？"
   ]
  },
  {
   "cell_type": "markdown",
   "metadata": {},
   "source": [
    "## Model Calculation"
   ]
  },
  {
   "cell_type": "markdown",
   "metadata": {},
   "source": [
    "![Calculation](Figure/QRNN-Calculation.png)"
   ]
  },
  {
   "cell_type": "markdown",
   "metadata": {},
   "source": [
    "### 1 f-pooling\n",
    "![f-pooling](Figure/f-pooling.png)"
   ]
  },
  {
   "cell_type": "markdown",
   "metadata": {},
   "source": [
    "### 2. f0-pooling\n",
    "![f-pooling](Figure/fo-pooling.png)"
   ]
  },
  {
   "cell_type": "markdown",
   "metadata": {},
   "source": [
    "### 3. ifo-pooling\n",
    "![f-pooling](Figure/ifo-pooling.png)"
   ]
  },
  {
   "cell_type": "markdown",
   "metadata": {},
   "source": [
    "## QRNN Limitation"
   ]
  },
  {
   "cell_type": "markdown",
   "metadata": {},
   "source": [
    "character level language modeling: QRNNs underperformed LSTMs  \n",
    "this is because character level language models require much more complex long-term interactions  \n",
    "This shows that the current method of using pooling to handle dependencies is not always successful   "
   ]
  },
  {
   "cell_type": "markdown",
   "metadata": {},
   "source": [
    "### QRNN Variation : SRU\n",
    "Source: Training RNNs as Fast as CNNs(https://openreview.net/pdf?id=rJBiunlAW)"
   ]
  },
  {
   "cell_type": "markdown",
   "metadata": {},
   "source": [
    "SRU 实质上是QRNN window 宽度取1的特殊情况"
   ]
  },
  {
   "cell_type": "markdown",
   "metadata": {},
   "source": [
    "highway connection? "
   ]
  }
 ],
 "metadata": {
  "kernelspec": {
   "display_name": "Python 3",
   "language": "python",
   "name": "python3"
  },
  "language_info": {
   "codemirror_mode": {
    "name": "ipython",
    "version": 3
   },
   "file_extension": ".py",
   "mimetype": "text/x-python",
   "name": "python",
   "nbconvert_exporter": "python",
   "pygments_lexer": "ipython3",
   "version": "3.6.7"
  }
 },
 "nbformat": 4,
 "nbformat_minor": 2
}
