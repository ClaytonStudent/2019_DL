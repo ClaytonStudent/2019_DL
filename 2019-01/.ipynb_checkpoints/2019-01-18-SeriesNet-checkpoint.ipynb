{
 "cells": [
  {
   "cell_type": "code",
   "execution_count": null,
   "metadata": {},
   "outputs": [],
   "source": []
  },
  {
   "cell_type": "markdown",
   "metadata": {},
   "source": [
    "# 1. WaveNet\n",
    "Paper: WaveNet(https://arxiv.org/pdf/1609.03499.pdf)  \n",
    "Source(EN):https://deepmind.com/blog/wavenet-generative-model-raw-audio/"
   ]
  },
  {
   "cell_type": "markdown",
   "metadata": {},
   "source": [
    "The model is fully probabilistic and autoregressive"
   ]
  },
  {
   "cell_type": "markdown",
   "metadata": {},
   "source": [
    "## 1.2 Causal Convolution\n",
    "make sure the model cannot violate the ordering(Same as masked convolution)  \n",
    "![Causal_Convolution](Figure/Causal_Convolution_Layer.png)"
   ]
  },
  {
   "cell_type": "markdown",
   "metadata": {},
   "source": [
    "## 1.3 Dilated Causal Convolution\n",
    "is a convolution where the filter is applied over an area larger than its length by skipping input values with a certain step.(similar to pooling or strided convolutions)  \n",
    "\n",
    "![DC](Figure/Dilated_Convolution.png)"
   ]
  },
  {
   "cell_type": "markdown",
   "metadata": {},
   "source": [
    "## 1.4 RESIDUAL AND SKIP CONNECTIONS\n",
    "speed up convergence and enable training of much deeper models\n",
    "![](Figure/Residual_Skip_Connection.png)"
   ]
  },
  {
   "cell_type": "markdown",
   "metadata": {},
   "source": [
    "# 2. Augmented WaveNet\n",
    "Paper: Augmented WaveNet(https://arxiv.org/pdf/1703.04691.pdf)"
   ]
  },
  {
   "cell_type": "markdown",
   "metadata": {},
   "source": [
    "Changes form WaveNEt:\n",
    "1. Add Condition\n",
    "2. change gated activation to ReLu\n",
    "3. Add Skip connection"
   ]
  },
  {
   "cell_type": "markdown",
   "metadata": {},
   "source": [
    "### Model Structure"
   ]
  },
  {
   "cell_type": "markdown",
   "metadata": {},
   "source": [
    "![Augmented_Wavenet](Figure/Augmented_Wavenet.png)"
   ]
  },
  {
   "cell_type": "markdown",
   "metadata": {},
   "source": [
    "# 3. SeriesNet\n",
    "Paper: SeriesNet(https://github.com/kristpapadopoulos/seriesnet/blob/master/seriesnet-Krist-Papadopoulos-v1.pdf)  \n",
    "Code: https://github.com/kristpapadopoulos/seriesnet/blob/master/seriesnet.py  \n",
    "Dataset: http://irafm.osu.cz/cif/main.php?c=Static&page=results"
   ]
  },
  {
   "cell_type": "markdown",
   "metadata": {},
   "source": [
    "# 4. Source"
   ]
  },
  {
   "cell_type": "markdown",
   "metadata": {},
   "source": [
    "### Online Source\n",
    "Source: https://medium.com/@peijin/time-series-forecasting-temporal-convolutional-networks-vs-automl-xgboost-regression-2e4b31eded6b\n",
    "\n",
    "### Codes and Packages\n",
    "\n",
    "Attention mechanism Implementation for Keras: https://github.com/philipperemy/keras-attention-mechanism  \n",
    "Keras Temporal Convolutional Network. https://github.com/philipperemy/keras-tcn\n",
    "\n",
    "### Loess Smoothing\n",
    "\n",
    "https://align-alytics.com/seasonal-decomposition-of-time-series-by-loessan-experiment/"
   ]
  }
 ],
 "metadata": {
  "kernelspec": {
   "display_name": "Python 3",
   "language": "python",
   "name": "python3"
  },
  "language_info": {
   "codemirror_mode": {
    "name": "ipython",
    "version": 3
   },
   "file_extension": ".py",
   "mimetype": "text/x-python",
   "name": "python",
   "nbconvert_exporter": "python",
   "pygments_lexer": "ipython3",
   "version": "3.6.7"
  }
 },
 "nbformat": 4,
 "nbformat_minor": 2
}
