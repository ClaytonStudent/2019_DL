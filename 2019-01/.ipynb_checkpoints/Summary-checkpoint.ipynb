{
 "cells": [
  {
   "cell_type": "markdown",
   "metadata": {},
   "source": [
    "# Thesis Structure"
   ]
  },
  {
   "cell_type": "markdown",
   "metadata": {},
   "source": [
    "## 0. Intorduction / Section distribution\n"
   ]
  },
  {
   "cell_type": "markdown",
   "metadata": {},
   "source": [
    "Abstract  \n",
    "Solar power is expected to play a substantial role golbally, due to it being one of the leading renewable electricity source for future use.  \n",
    "Even though the use of solar irradiation to generate electricity is currently at a fast deployment pace and technological evolution, its natural variability still presents an important barrier to overcome.   \n",
    "Deep learning arise as alternatives to aid solar electricity generation forecast reducing the impacts of its natural inconstant power supply.  \n",
    "This papre presents a method called \"PhotoNet\" based on WaveNet for solar photovoltaic electoricity generation forecasts, aming to achieve state to art forecast precision.  \n",
    "Causal convolution, Dilated Convolution and skpi connection are used in the model (分别有什么作用)  \n",
    "It was found that PhotoNet achieved comparable results to top performing machine learning models such as Random Forest and SVM on the Campus Nord dataset.  \n",
    "This work proves the forecast ability of deep learning model especially convolutonal neural network for time series forecasting.  "
   ]
  },
  {
   "cell_type": "markdown",
   "metadata": {},
   "source": [
    "## 1. Energy Field intoduction\n",
    "photovaltic knowledge\n",
    "\n",
    "(重要性)\n",
    "Solar power is expected to play a substantial role golbally, due to it being one of the leading renewable electricity source for future use.\n",
    "With focus on low carbon based future economy, renewable energy has been a topic of significant intreast in different areas.(Examples)\n",
    "Focusing on solar technology, photovoltaics have experienced enormous growth over the last years.\n",
    "\n",
    "the task of solar power forecasting becomes crucial to ensure grid stability and to enable an optimal unit commitment and economical dispatch.  \n",
    "(困难)\n",
    "Even though the use of solar irradiation to generate electricity is currently at a fast deployment pace and technological evolution, its natural variability still presents an important barrier to overcome.\n",
    "\n",
    "Photovoltacs forecasting problem belongs to time series forecasting problem, which will be discussed later in section 2."
   ]
  },
  {
   "cell_type": "markdown",
   "metadata": {},
   "source": [
    "## 2. Time Series Forecasting\n",
    "\n",
    "### Definition\n",
    "A time series is a sequence of observations taken sequentially in time (FROM Time series Analysis: Forecasting and control.)\n",
    "Time series forecasting uses the information in a time series to forecasti futrue values of that series.\n",
    "The current time is defined as t, an observation at the current time is defined as obs(t).\n",
    "The observations made at prior time called lags. \n",
    "### Components \n",
    "Time series can decompose into four constituent pars: \n",
    "Level: The baseline vallue for the series if it were a straight line.\n",
    "Trend. The optional and often linear increasing or decreasing behavior of the series over time.\n",
    "Seasonality. The optional repeating patterns or cycles of behavior over time.\n",
    "Noise. The optional variability in the observations that cannot be explained by the model.\n",
    "All time series have a level, most have noise, and the trend and seasonality are optional.  \n",
    "(图)\n",
    "### Time Series as Supervised Learning\n",
    "Time series forecasting can be framed as a supervised learning problem\n",
    "It can be done by using previous time steps as input variables and use the next time steps as the output variable.\n",
    "to be noticed,the order between the observations is preserved, and must continue to be preserved when using this dataset to train a supervised model.\n",
    "### Type of time series\n",
    "The number of observations recorded for a given time in a time series dataset matters. Two type of time series are classified depending on the nuber of variables.\n",
    "Univariate time series: These are datasets where only a single variable is observed at each time.\n",
    "Myltivariate time series: These are datasets where two or more variables are observed at each time.\n",
    "\n",
    "Similarly, two calsses are defined based on the number of time steps to forecast:\n",
    "One-Step Forecast: This is where the next step(t+1) is predicted.\n",
    "Multi-Step Forecast: This is where two or more future time steps are to be predicted."
   ]
  },
  {
   "cell_type": "markdown",
   "metadata": {},
   "source": [
    "## 3. Methods \n",
    "To solve the time series forecasting problem in photovolatic generation field, different methods are used.\n",
    "#### 3.1 Traditional methods\n",
    "ARIMA\n",
    "#### 3.2 Machine learning methods\n",
    "Ensemble/clustering/ANN\n",
    "#### 3.3 Deep learning methods\n",
    "RNN/CNN/LSTM/....\n",
    "#### 3.4 My Model\n",
    "\n"
   ]
  },
  {
   "cell_type": "markdown",
   "metadata": {},
   "source": [
    "## 4. Related Works\n",
    "DL(CNN/RNN) in energy forecasting field and our model introduction"
   ]
  }
 ],
 "metadata": {
  "kernelspec": {
   "display_name": "Python 3",
   "language": "python",
   "name": "python3"
  },
  "language_info": {
   "codemirror_mode": {
    "name": "ipython",
    "version": 3
   },
   "file_extension": ".py",
   "mimetype": "text/x-python",
   "name": "python",
   "nbconvert_exporter": "python",
   "pygments_lexer": "ipython3",
   "version": "3.6.7"
  }
 },
 "nbformat": 4,
 "nbformat_minor": 2
}
