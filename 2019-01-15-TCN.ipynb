{
 "cells": [
  {
   "cell_type": "markdown",
   "metadata": {},
   "source": [
    "## Dilated Convolution\n",
    "Source(EN): http://www.erogol.com/dilated-convolution/   \n",
    "### Advantage\n",
    "capture global view of the input with less parameters.\n",
    "### Application:\n",
    "image segmentation where the network output needs to be in the same size of the input image.  \n",
    "WaveNet / ByteNet"
   ]
  },
  {
   "cell_type": "markdown",
   "metadata": {},
   "source": [
    "### Summary\n",
    "解决Seq中输入输出同等长度，FCN中需要deconvolution(upsampling)丢失信息的问题  \n",
    "解决图片分割，图像处理中需要前后等大小，upsampling的问题"
   ]
  },
  {
   "cell_type": "markdown",
   "metadata": {},
   "source": [
    "## deconvolution(Transposed convolutions/ fractional stride convolution)\n",
    "Source(CN): https://blog.csdn.net/Kevin_cc98/article/details/78916531  \n",
    "unsample方法"
   ]
  },
  {
   "cell_type": "code",
   "execution_count": null,
   "metadata": {},
   "outputs": [],
   "source": []
  }
 ],
 "metadata": {
  "kernelspec": {
   "display_name": "Python 3",
   "language": "python",
   "name": "python3"
  },
  "language_info": {
   "codemirror_mode": {
    "name": "ipython",
    "version": 3
   },
   "file_extension": ".py",
   "mimetype": "text/x-python",
   "name": "python",
   "nbconvert_exporter": "python",
   "pygments_lexer": "ipython3",
   "version": "3.6.7"
  }
 },
 "nbformat": 4,
 "nbformat_minor": 2
}
