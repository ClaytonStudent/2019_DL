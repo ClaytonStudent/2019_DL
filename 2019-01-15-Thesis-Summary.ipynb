{
 "cells": [
  {
   "cell_type": "markdown",
   "metadata": {},
   "source": [
    "### Model Selection\n",
    "1. TCN\n",
    "2. QRNN\n",
    "3. Attention\n",
    "4. UL/SL (As Beginning)\n",
    "5. Ensemble (At End) : Stacking use different same data"
   ]
  },
  {
   "cell_type": "markdown",
   "metadata": {},
   "source": [
    "Shift --> History Window"
   ]
  },
  {
   "cell_type": "markdown",
   "metadata": {},
   "source": [
    "Source(EN): https://dzone.com/articles/lessons-learnt-while-solving-time-series-forecasti  \n",
    "Source(EN): https://dzone.com/articles/lessons-learnt-while-solving-time-series-forecasti-1  "
   ]
  },
  {
   "cell_type": "markdown",
   "metadata": {},
   "source": [
    "### 1.Decompose Trend & Stationarity\n",
    "\n",
    "from statsmodels.tsa.seasonal import seasonal_decompose\n",
    "\n",
    "### 2.Missing Values\n",
    "\n",
    "![](Figure/Missing_Value.png)"
   ]
  },
  {
   "cell_type": "markdown",
   "metadata": {},
   "source": [
    "## 3. Feature\n",
    "### 3.1 External features\n",
    "weather\n",
    "### 3.2 Date Features\n",
    "Day of the month, Day of the week, Week of the year, Month Number, Quarter Number\n",
    "### 3.3 Descriptive Features Using Historical Data\n",
    "mean, max, min, and median for the same period last year/month"
   ]
  },
  {
   "cell_type": "markdown",
   "metadata": {},
   "source": [
    "## 4. Outlier Detection"
   ]
  },
  {
   "cell_type": "markdown",
   "metadata": {},
   "source": [
    "1. Statistical Method: Standard Deviation Method\n",
    "2. Projection Method: principle component analysis(PCA)\n",
    "3. Clustering: Dbscan"
   ]
  },
  {
   "cell_type": "markdown",
   "metadata": {},
   "source": [
    "## 5 Demision Reduction\n",
    "Source(EN): https://www.analyticsvidhya.com/blog/2018/08/dimensionality-reduction-techniques-python/  \n",
    "![Dimesnion_Reducion](Figure/Dimension_Reduction.png)"
   ]
  },
  {
   "cell_type": "markdown",
   "metadata": {},
   "source": [
    "## 6. SOTA\n",
    "1. forecasting errors\n",
    "2. number of models to be built\n",
    "3. computation time \n",
    "4. memory requirement\n",
    "5. complexity of implementation"
   ]
  },
  {
   "cell_type": "code",
   "execution_count": null,
   "metadata": {},
   "outputs": [],
   "source": []
  },
  {
   "cell_type": "code",
   "execution_count": null,
   "metadata": {},
   "outputs": [],
   "source": []
  }
 ],
 "metadata": {
  "kernelspec": {
   "display_name": "Python 3",
   "language": "python",
   "name": "python3"
  },
  "language_info": {
   "codemirror_mode": {
    "name": "ipython",
    "version": 3
   },
   "file_extension": ".py",
   "mimetype": "text/x-python",
   "name": "python",
   "nbconvert_exporter": "python",
   "pygments_lexer": "ipython3",
   "version": "3.6.7"
  }
 },
 "nbformat": 4,
 "nbformat_minor": 2
}
